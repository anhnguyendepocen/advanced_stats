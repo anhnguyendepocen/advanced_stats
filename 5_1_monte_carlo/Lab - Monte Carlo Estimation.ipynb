{
 "cells": [
  {
   "cell_type": "markdown",
   "metadata": {},
   "source": [
    "Recall this worked example:"
   ]
  },
  {
   "cell_type": "code",
   "execution_count": 3,
   "metadata": {},
   "outputs": [
    {
     "name": "stdout",
     "output_type": "stream",
     "text": [
      "255.099837882 250.00000000000006\n"
     ]
    }
   ],
   "source": [
    "import numpy as np\n",
    "import scipy.integrate as integrate\n",
    "\n",
    "def f(x): return x**3\n",
    "\n",
    "given_area = integrate.quad(f, 0, 10)[0]\n",
    "given_mean = given_area / 10.\n",
    "\n",
    "samples = f(np.random.uniform(0, 10, 1000))\n",
    "approx_mean = np.mean(samples)\n",
    "approx_area = approx_mean * 10\n",
    "\n",
    "print(approx_mean, given_mean)"
   ]
  },
  {
   "cell_type": "markdown",
   "metadata": {},
   "source": [
    "Let's practice. Following the example above, calculate the mean value and total value of the following integrals:\n",
    "\n",
    "$A = \\int_{5}^{15} x^3 dx$\n",
    "\n",
    "$B = \\int_{0}^{7} x! dx$\n",
    "\n",
    "$C = \\int_{-5}^{5} 1/\\pi^x dx$\n",
    "\n",
    "You may develop reusable functions to keep your code clean."
   ]
  },
  {
   "cell_type": "code",
   "execution_count": null,
   "metadata": {
    "collapsed": true
   },
   "outputs": [],
   "source": []
  },
  {
   "cell_type": "markdown",
   "metadata": {},
   "source": [
    "Now, let's move on to statistical distributions.\n",
    "\n",
    "Use the `numpy.random` package to find your samplers."
   ]
  },
  {
   "cell_type": "markdown",
   "metadata": {},
   "source": [
    "Create a standard normal distribution and use Monte Carlo integration to approximate the expectation. Use a sample size of 10000."
   ]
  },
  {
   "cell_type": "code",
   "execution_count": null,
   "metadata": {
    "collapsed": true
   },
   "outputs": [],
   "source": []
  },
  {
   "cell_type": "markdown",
   "metadata": {},
   "source": [
    "Now, do the same with a normal distribution with a larger mean and variance."
   ]
  },
  {
   "cell_type": "code",
   "execution_count": null,
   "metadata": {
    "collapsed": true
   },
   "outputs": [],
   "source": []
  },
  {
   "cell_type": "markdown",
   "metadata": {},
   "source": [
    "What is the relationship between the correctness of this approximation and increases in variance of the normal distribution? Why do you think that is? (You may need to experiment with more parameter settings to discover this relationship.)"
   ]
  },
  {
   "cell_type": "code",
   "execution_count": null,
   "metadata": {
    "collapsed": true
   },
   "outputs": [],
   "source": []
  },
  {
   "cell_type": "markdown",
   "metadata": {},
   "source": [
    "The standard error of our Monte Carlo estimate is:\n",
    "    \n",
    "$$\\widehat{se} = \\frac{s}{\\sqrt{N}}$$\n",
    "    \n",
    "Where\n",
    "    $$s^2 = \\frac{\\sum_{i=1}^{N}(S_i - \\widehat{E})^2}{N - 1}$$\n",
    "    and $\\widehat{E}$ is our estimate of the mean,\n",
    "    $N$ is the number of samples we've collected, and\n",
    "    $S$ is the array of samples that we've collected.\n",
    "    \n",
    "\n",
    "Implement the standard error function."
   ]
  },
  {
   "cell_type": "code",
   "execution_count": null,
   "metadata": {
    "collapsed": true
   },
   "outputs": [],
   "source": []
  },
  {
   "cell_type": "markdown",
   "metadata": {},
   "source": [
    "Now, returning to a simple calculus example, calculate the MC mean and standard error of the MC mean of the following integral:\n",
    "\n",
    "$$I = \\int_{0}^{2} x^3 dx$$"
   ]
  },
  {
   "cell_type": "code",
   "execution_count": null,
   "metadata": {
    "collapsed": true
   },
   "outputs": [],
   "source": []
  },
  {
   "cell_type": "markdown",
   "metadata": {},
   "source": [
    "Now, a natural question is: what is the relationship between correctness and sample size?\n",
    "\n",
    "We expect the estimate to become more correct with more samples. But, at what rate?\n",
    "\n",
    "1. Using a normal distribution, collect MC runs using increasing numbers of samples (you should only need to collect data of the shape [n_samples, standard_error]).\n",
    "\n",
    "2. Collect enough data that you can plot or otherwise visualize the relationship between sample size and standard error.\n",
    "\n",
    "3. Posit a relationship between sample size and standard error.\n",
    "\n",
    "4. Fit a linear regression to your data to defend your argument (where the (possibly transformed) number of samples predicts the standard error)."
   ]
  },
  {
   "cell_type": "code",
   "execution_count": null,
   "metadata": {
    "collapsed": true
   },
   "outputs": [],
   "source": []
  },
  {
   "cell_type": "markdown",
   "metadata": {},
   "source": [
    "Finally, let us examine how naïve Monte Carlo methods may be inadequate in certain situations.\n",
    "\n",
    "Suppose we want to estimate the expectation of a random variable $Y$ that has the following form:\n",
    "\n",
    "$$\n",
    "    Y \\sim \n",
    "\\begin{cases}\n",
    "    X              & \\text{if } X \\in [1, 3]\\\\\n",
    "    0              & \\text{otherwise}\n",
    "\\end{cases}\n",
    "$$\n",
    "\n",
    "$$\n",
    "    X \\sim \\mathcal{N}(0, 1)\n",
    "$$\n",
    "\n",
    "The key idea here is that we cannot sample directly from $Y$. We must instead sample from $X$, then filter its results to be within the range $[1, 3]$.\n",
    "\n",
    "1. Create a function to sample from the random variable Y. It should be based on sampling of the normal distribution.\n",
    "2. Use Monte Carlo integration to estimate $E[Y]$.\n",
    "3. Now, create a random variable $Y2$ that is like $Y$, but the predicate selects for $X \\in [1,2]$.\n",
    "4. What happens to the quality of our estimate? Does the error change?\n",
    "5. What, if anything, does this imply about when we should choose to use Monte Carlo integration?"
   ]
  },
  {
   "cell_type": "code",
   "execution_count": null,
   "metadata": {
    "collapsed": true
   },
   "outputs": [],
   "source": []
  }
 ],
 "metadata": {
  "kernelspec": {
   "display_name": "Python 3",
   "language": "python",
   "name": "python3"
  },
  "language_info": {
   "codemirror_mode": {
    "name": "ipython",
    "version": 3
   },
   "file_extension": ".py",
   "mimetype": "text/x-python",
   "name": "python",
   "nbconvert_exporter": "python",
   "pygments_lexer": "ipython3",
   "version": "3.6.1"
  }
 },
 "nbformat": 4,
 "nbformat_minor": 2
}
