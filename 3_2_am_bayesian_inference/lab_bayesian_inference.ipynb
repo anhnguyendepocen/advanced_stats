{
 "cells": [
  {
   "cell_type": "markdown",
   "metadata": {},
   "source": [
    "Estimate the Posterior with Bayes and Markov Chain Monte Carlo (MCMC)\n",
    "-----\n",
    "\n",
    "<center><img src=\"https://www.predikkta.com/site-images/ctr-formula.png\" width=\"500\"/></center>\n",
    "\n",
    "A company has hired you to help assess their new ad campaign."
   ]
  },
  {
   "cell_type": "code",
   "execution_count": 72,
   "metadata": {
    "collapsed": true
   },
   "outputs": [],
   "source": [
    "reset -fs"
   ]
  },
  {
   "cell_type": "code",
   "execution_count": 73,
   "metadata": {
    "collapsed": true
   },
   "outputs": [],
   "source": [
    "import matplotlib.pyplot as plt\n",
    "import numpy as np\n",
    "import pandas as pd\n",
    "from scipy.misc import factorial\n",
    "from scipy.stats import beta\n",
    "\n",
    "%matplotlib inline"
   ]
  },
  {
   "cell_type": "markdown",
   "metadata": {},
   "source": [
    "-----\n",
    "Likelihood\n",
    "-----"
   ]
  },
  {
   "cell_type": "code",
   "execution_count": 74,
   "metadata": {
    "collapsed": true
   },
   "outputs": [],
   "source": [
    "def likelihood(theta, n, x):\n",
    "    \"Likelihood function for a binomial distribution\"\n",
    "    return (factorial(n) / (factorial(x) * factorial(n - x))) \\\n",
    "            * (theta ** x) * ((1 - theta) ** (n - x))"
   ]
  },
  {
   "cell_type": "markdown",
   "metadata": {},
   "source": [
    "The ad has been presented to 10 users so far, and 7 of the users have clicked on it. We would like to estimate the probability that the next user will click on the ad. "
   ]
  },
  {
   "cell_type": "code",
   "execution_count": 75,
   "metadata": {
    "collapsed": true
   },
   "outputs": [],
   "source": [
    "# TODO: Find the MLE for Theta"
   ]
  },
  {
   "cell_type": "code",
   "execution_count": null,
   "metadata": {
    "collapsed": true
   },
   "outputs": [],
   "source": []
  },
  {
   "cell_type": "code",
   "execution_count": 77,
   "metadata": {
    "collapsed": true
   },
   "outputs": [],
   "source": [
    "# TODO: Plot the likelihoods and the MLE for Theta"
   ]
  },
  {
   "cell_type": "code",
   "execution_count": null,
   "metadata": {
    "collapsed": true
   },
   "outputs": [],
   "source": []
  },
  {
   "cell_type": "markdown",
   "metadata": {},
   "source": [
    "-----\n",
    "The Prior\n",
    "-----"
   ]
  },
  {
   "cell_type": "markdown",
   "metadata": {},
   "source": [
    "However, some of the other analysts are skeptical. The performance of this campaign seems extremely high given how our other campaigns have done historically. \n",
    "\n",
    "Let's overlay this likelihood function with the distribution of success rates from our previous campaigns:"
   ]
  },
  {
   "cell_type": "code",
   "execution_count": 79,
   "metadata": {},
   "outputs": [
    {
     "data": {
      "image/png": "[encoded data removed]",
      "text/plain": [
       "<matplotlib.figure.Figure at 0x11a8bd5c0>"
      ]
     },
     "metadata": {},
     "output_type": "display_data"
    }
   ],
   "source": [
    "# Historical data:\n",
    "\n",
    "click_through_rates = np.array([ 0.15835141,  0.24594907,  0.23203796,  0.1697417 ,  0.26456219,\n",
    "        0.10688894,  0.15942029,  0.10251509,  0.21555916,  0.26701571,\n",
    "        0.22357845,  0.09484649,  0.30164751,  0.25938926,  0.20065635,\n",
    "        0.21978022,  0.12796353,  0.22071393,  0.16535174,  0.16429616,\n",
    "        0.11485149,  0.12111554,  0.1498829 ,  0.15991211,  0.25595873,\n",
    "        0.21068217,  0.15643511,  0.21726526,  0.22079879,  0.13604666,\n",
    "        0.18088553,  0.13316195,  0.15502451,  0.12268956,  0.18240807,\n",
    "        0.12761254,  0.20318112,  0.12689007,  0.19252008,  0.18780152,\n",
    "        0.18663905,  0.29960441,  0.18061674,  0.17408124,  0.19622715,\n",
    "        0.12341419,  0.27224603,  0.19687142,  0.23680456,  0.16712235,\n",
    "        0.14273431,  0.17844061,  0.20477619,  0.15386883,  0.24710801,\n",
    "        0.14167209,  0.21142326,  0.16989485,  0.21256039,  0.14577685,\n",
    "        0.15675331,  0.1918745 ,  0.25055707,  0.24775785,  0.23608445,\n",
    "        0.21158309,  0.16586965,  0.12852698,  0.18548387,  0.16216216,\n",
    "        0.21016629,  0.20659004,  0.273906  ,  0.16026009,  0.17994263,\n",
    "        0.0931338 ,  0.23344397,  0.15880994,  0.12904559,  0.07740692,\n",
    "        0.1784027 ,  0.1030481 ,  0.2738525 ,  0.26075949,  0.25295508,\n",
    "        0.18004382,  0.21100596,  0.20576132,  0.24811835,  0.1496106 ,\n",
    "        0.17937585,  0.16192643,  0.18058628,  0.15143824,  0.20622568,\n",
    "        0.31488673,  0.20617611,  0.19254186,  0.18061089,  0.1891835 ])\n",
    "\n",
    "f, ax = plt.subplots(1)\n",
    "ax.axvline(mle, linestyle = \"--\")\n",
    "ax.plot(possible_theta_values, likelihoods)\n",
    "\n",
    "zero_to_one = [j/100. for j in range(100)]\n",
    "counts, bins = np.histogram(click_through_rates\n",
    "                            , bins=zero_to_one)\n",
    "counts = counts / 100.\n",
    "ax.plot(bins[:-1],counts, alpha = .5)\n",
    "line1, line2, line3 = ax.lines\n",
    "ax.legend((line2, line3), ('Likelihood of Theta for New Campaign'\n",
    "                           , 'Frequency of Theta Historically')\n",
    "                          , loc = 'upper left')\n",
    "ax.set_xlabel(\"Theta\")\n",
    "ax.grid()\n",
    "ax.set_title(\"Evidence vs Historical Click Through Rates\")\n",
    "plt.show()"
   ]
  },
  {
   "cell_type": "markdown",
   "metadata": {},
   "source": [
    "__TODO__:  Summarize how the relationship between historical data and Theta"
   ]
  },
  {
   "cell_type": "code",
   "execution_count": null,
   "metadata": {
    "collapsed": true
   },
   "outputs": [],
   "source": []
  },
  {
   "cell_type": "code",
   "execution_count": 80,
   "metadata": {
    "collapsed": true
   },
   "outputs": [],
   "source": [
    "# TODO: Fit beta to previous CTRs using scipy.stats.beta"
   ]
  },
  {
   "cell_type": "code",
   "execution_count": null,
   "metadata": {
    "collapsed": true
   },
   "outputs": [],
   "source": []
  },
  {
   "cell_type": "code",
   "execution_count": 82,
   "metadata": {
    "collapsed": true
   },
   "outputs": [],
   "source": [
    "# TODO: Plot estimated prior"
   ]
  },
  {
   "cell_type": "code",
   "execution_count": null,
   "metadata": {
    "collapsed": true
   },
   "outputs": [],
   "source": []
  },
  {
   "cell_type": "markdown",
   "metadata": {},
   "source": [
    "----\n",
    "The Posterior\n",
    "----\n",
    "\n",
    "Let's now obtain samples from the posterior. We select our prior as a Beta(α, β) from last step"
   ]
  },
  {
   "cell_type": "code",
   "execution_count": 84,
   "metadata": {
    "collapsed": true
   },
   "outputs": [],
   "source": [
    "import pymc3 as pm"
   ]
  },
  {
   "cell_type": "code",
   "execution_count": 100,
   "metadata": {},
   "outputs": [
    {
     "name": "stderr",
     "output_type": "stream",
     "text": [
      "/Users/brian/anaconda3/envs/stats/lib/python3.6/site-packages/theano/tensor/basic.py:2146: UserWarning: theano.tensor.round() changed its default from `half_away_from_zero` to `half_to_even` to have the same default as NumPy. Use the Theano flag `warn.round=False` to disable this warning.\n",
      "  \"theano.tensor.round() changed its default from\"\n"
     ]
    },
    {
     "name": "stdout",
     "output_type": "stream",
     "text": [
      "Optimization terminated successfully.\n"
     ]
    },
    {
     "name": "stderr",
     "output_type": "stream",
     "text": [
      "100%|██████████| 5000/5000 [00:01<00:00, 3239.88it/s]"
     ]
    },
    {
     "name": "stdout",
     "output_type": "stream",
     "text": [
      "         Current function value: 6.130835\n",
      "         Iterations: 4\n",
      "         Function evaluations: 6\n",
      "         Gradient evaluations: 6\n"
     ]
    },
    {
     "name": "stderr",
     "output_type": "stream",
     "text": [
      "\n"
     ]
    }
   ],
   "source": [
    "clicks = np.array([n_clicks])\n",
    "impressions = np.array([n_impressions])\n",
    "\n",
    "with pm.Model() as model:\n",
    "\n",
    "    theta_prior = pm.Beta('prior', 11.5, 48.5)\n",
    "    observations = pm.Binomial('obs',\n",
    "                               n=impressions,\n",
    "                               p=theta_prior,\n",
    "                               observed = clicks)     \n",
    "\n",
    "    start = pm.find_MAP()    # Find good starting values for the sampling algorithm\n",
    "\n",
    "    step = pm.NUTS(state=start)     # Choose a particular MCMC algorithm     \n",
    "\n",
    "    # Obtain samples\n",
    "    trace = pm.sample(5000, \n",
    "                      step,\n",
    "                      start=start, \n",
    "                      progressbar=True)              "
   ]
  },
  {
   "cell_type": "code",
   "execution_count": 102,
   "metadata": {},
   "outputs": [
    {
     "data": {
      "image/png": "[encoded data removed]",
      "text/plain": [
       "<matplotlib.figure.Figure at 0x12bfeb2b0>"
      ]
     },
     "metadata": {},
     "output_type": "display_data"
    }
   ],
   "source": [
    "# Get histogram of samples from posterior distribution of CTRs\n",
    "posterior_counts, posterior_bins = np.histogram(trace['prior'],\n",
    "                                                bins=zero_to_one)\n",
    "\n",
    "#  Normalized histogramp\n",
    "posterior_counts = posterior_counts / float(posterior_counts.sum())\n",
    "# Take the mean of the samples as most plausible value\n",
    "most_plausible_theta = np.mean(trace['prior'])\n",
    "# Histogram of samples from prior distribution\n",
    "prior_counts, bins = np.histogram(prior_samples\n",
    "                                  , zero_to_one)#normalize\n",
    "prior_counts = list(map(lambda x: float(x)/prior_counts.sum()\n",
    "                   , prior_counts))\n",
    "# Plot\n",
    "f, ax = plt.subplots(1)\n",
    "ax.plot(possible_theta_values, likelihoods)\n",
    "ax.plot(bins[:-1],prior_counts, alpha = .2)\n",
    "ax.plot(bins[:-1],posterior_counts)\n",
    "ax.axvline(most_plausible_theta, linestyle = \"--\", alpha = .2)\n",
    "line1, line2, line3, line4 = ax.lines\n",
    "ax.legend((line1, line2, line3, line4), ('Evidence',\n",
    "                                         'Prior Probability for Theta',\n",
    "                                         'Posterior Probability for Theta',\n",
    "                                         'Most Plausible Theta',), loc = 'upper left')\n",
    "ax.set_xlabel(\"Theta\")\n",
    "ax.grid()\n",
    "ax.set_title(\"Prior Distribution Updated with Some Evidence\")\n",
    "plt.show()"
   ]
  },
  {
   "cell_type": "markdown",
   "metadata": {},
   "source": [
    "__TODO__: What does the posterior tell us about the campaign?"
   ]
  },
  {
   "cell_type": "code",
   "execution_count": null,
   "metadata": {
    "collapsed": true
   },
   "outputs": [],
   "source": []
  }
 ],
 "metadata": {
  "kernelspec": {
   "display_name": "Python 3",
   "language": "python",
   "name": "python3"
  },
  "language_info": {
   "codemirror_mode": {
    "name": "ipython",
    "version": 3
   },
   "file_extension": ".py",
   "mimetype": "text/x-python",
   "name": "python",
   "nbconvert_exporter": "python",
   "pygments_lexer": "ipython3",
   "version": "3.6.1"
  }
 },
 "nbformat": 4,
 "nbformat_minor": 2
}
