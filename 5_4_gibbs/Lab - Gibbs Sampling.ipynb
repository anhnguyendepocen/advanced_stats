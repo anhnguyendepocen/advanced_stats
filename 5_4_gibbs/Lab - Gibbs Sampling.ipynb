{
 "cells": [
  {
   "cell_type": "code",
   "execution_count": 63,
   "metadata": {
    "collapsed": true
   },
   "outputs": [],
   "source": [
    "from collections import defaultdict\n",
    "import random\n",
    "from pprint import pprint\n",
    "import numpy as np"
   ]
  },
  {
   "cell_type": "markdown",
   "metadata": {},
   "source": [
    "Gibbs sampling is a method for using conditional distributions to simulate the full joint distribution.\n",
    "\n",
    "Here, we'll work through a simple model of the following graphical form:\n",
    "\n",
    "![](lec_d_diagram_1.png \"\")\n",
    "\n",
    "This is a model of two die rolls, with the observed random variables $x$ and $y$, and the unobserved random variables of $d_0$ and $d_1$.\n",
    "\n",
    "The full joint distribution is\n",
    "\n",
    "$$P(x, y, d_0, d_1)$$\n",
    "\n",
    "And we can calculate this explicitly:"
   ]
  },
  {
   "cell_type": "code",
   "execution_count": 78,
   "metadata": {},
   "outputs": [],
   "source": [
    "def roll_a_die():\n",
    "    return random.choice([1,2,3,4,5,6])\n",
    "\n",
    "# generative model\n",
    "def direct_sample(num_iters=100):\n",
    "    ret = {'d0': [], 'd1': [], 'x': [], 'y': []}\n",
    "    \n",
    "    for _ in range(num_iters):\n",
    "        d0 = roll_a_die()\n",
    "        d1 = roll_a_die()\n",
    "        x = d0\n",
    "        y = d0 + d1\n",
    "    \n",
    "        ret['d0'].append(d0)\n",
    "        ret['d1'].append(d1)\n",
    "        ret['x'].append(x)\n",
    "        ret['y'].append(y)\n",
    "\n",
    "\n",
    "    return ret"
   ]
  },
  {
   "cell_type": "markdown",
   "metadata": {},
   "source": [
    "Repeatedly use `direct_sample` to estimate the following probabilities:\n",
    "    \n",
    "$$P(x = 3)$$\n",
    "$$P(y = 5)$$\n",
    "\n",
    "And these, which may require list manipulation and/or indexing:\n",
    "\n",
    "$$P(y = 10 | x = 5)$$\n",
    "$$P(x = 5 | y = 10)$$    "
   ]
  },
  {
   "cell_type": "code",
   "execution_count": null,
   "metadata": {},
   "outputs": [],
   "source": []
  },
  {
   "cell_type": "markdown",
   "metadata": {},
   "source": [
    "And, repeatedly use `direct_sample` to calculate the expectations:\n",
    "\n",
    "$$E[x]$$\n",
    "$$E[y]$$\n",
    "$$E[y | x = 5]$$\n",
    "$$E[x | y = 5]$$"
   ]
  },
  {
   "cell_type": "code",
   "execution_count": null,
   "metadata": {
    "collapsed": true
   },
   "outputs": [],
   "source": []
  },
  {
   "cell_type": "markdown",
   "metadata": {},
   "source": [
    "Now, we can also derive the conditional expectations analytically, and represent them in code:\n",
    "\n",
    "$$P(y|x)$$\n"
   ]
  },
  {
   "cell_type": "code",
   "execution_count": 40,
   "metadata": {
    "collapsed": true
   },
   "outputs": [],
   "source": [
    "def random_y_given_x(x):\n",
    "    \"\"\"equally likely to be x + 1, x + 2, ... , x + 6\"\"\"\n",
    "    return x + roll_a_die()"
   ]
  },
  {
   "cell_type": "markdown",
   "metadata": {},
   "source": [
    "$$P(x|y)$$"
   ]
  },
  {
   "cell_type": "code",
   "execution_count": 42,
   "metadata": {
    "collapsed": true
   },
   "outputs": [],
   "source": [
    "def random_x_given_y(y):\n",
    "    if y <= 7:\n",
    "        # if the total is 7 or less, the first die is equally likely to be\n",
    "        # 1, 2, ..., (total - 1)\n",
    "        return random.randrange(1, y)\n",
    "    else:\n",
    "        # if the total is 7 or more, the first die is equally likely to be\n",
    "        # (total - 6), (total - 5), ..., 6\n",
    "        return random.randrange(y - 6, 7)"
   ]
  },
  {
   "cell_type": "markdown",
   "metadata": {},
   "source": [
    "Now, implement a Gibbs sampler for $P(x, y)$.\n",
    "\n",
    "Recall the algorithm:\n",
    "\n",
    "1) Initialize the points $x_0$ and $y_0$ to reasonable arbitrary values. Here, $x_0$ should be an integer between 1 and 6 inclusive, and $y_0$ should be between 2 and 12 inclusive.\n",
    "\n",
    "2) In a loop for a fixed number of iterations, update your estimate of $x$ and of $y$ using the following formula:\n",
    "   \n",
    "$$ x_t \\leftarrow sample(x_{t-1} | y_{t-1})$$\n",
    "$$ y_t \\leftarrow sample(x_t | y_{t-1})$$\n",
    "\n",
    "3) Return the collected lists of samples."
   ]
  },
  {
   "cell_type": "code",
   "execution_count": 79,
   "metadata": {},
   "outputs": [],
   "source": [
    "def gibbs_sample(x_0, y_0, num_iters=100):\n",
    "    x = x_0\n",
    "    y = y_0\n",
    "    samples = {'x': [x], 'y': [x]}\n",
    "\n",
    "    # DO THIS\n",
    "\n",
    "    return samples"
   ]
  },
  {
   "cell_type": "markdown",
   "metadata": {},
   "source": [
    "Use your Gibbs sampler to calculate the expectation of $x$ and of $y$."
   ]
  },
  {
   "cell_type": "code",
   "execution_count": null,
   "metadata": {},
   "outputs": [],
   "source": []
  },
  {
   "cell_type": "markdown",
   "metadata": {},
   "source": [
    "Show that the Gibbs sampler matches the output of your earlier calculations that used the generative model of the full joint distribution."
   ]
  },
  {
   "cell_type": "code",
   "execution_count": null,
   "metadata": {
    "collapsed": true
   },
   "outputs": [],
   "source": []
  },
  {
   "cell_type": "code",
   "execution_count": 74,
   "metadata": {
    "collapsed": true
   },
   "outputs": [],
   "source": [
    "from time import time"
   ]
  },
  {
   "cell_type": "markdown",
   "metadata": {},
   "source": [
    "Use the Python function `time` to show the speed differences between Gibbs sampling and full joint simulation. An example usage of `time` is:\n",
    "\n",
    "```python\n",
    "start = time()\n",
    "foo()\n",
    "end = time()\n",
    "duration = end - start\n",
    "print('foo took %f seconds' % duration)\n",
    "```\n",
    "\n",
    "Make sure to set the number of iterations equally."
   ]
  },
  {
   "cell_type": "code",
   "execution_count": null,
   "metadata": {
    "collapsed": true
   },
   "outputs": [],
   "source": []
  }
 ],
 "metadata": {
  "kernelspec": {
   "display_name": "Python 3",
   "language": "python",
   "name": "python3"
  },
  "language_info": {
   "codemirror_mode": {
    "name": "ipython",
    "version": 3
   },
   "file_extension": ".py",
   "mimetype": "text/x-python",
   "name": "python",
   "nbconvert_exporter": "python",
   "pygments_lexer": "ipython3",
   "version": "3.6.1"
  }
 },
 "nbformat": 4,
 "nbformat_minor": 2
}
