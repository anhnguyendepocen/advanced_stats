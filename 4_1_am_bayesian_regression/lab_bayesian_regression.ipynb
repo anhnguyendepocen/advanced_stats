{
 "cells": [
  {
   "cell_type": "markdown",
   "metadata": {
    "collapsed": true
   },
   "source": [
    "Bayesian Regression\n",
    "-----"
   ]
  },
  {
   "cell_type": "markdown",
   "metadata": {},
   "source": [
    "<center><img src=\"https://upload.wikimedia.org/wikipedia/commons/thumb/b/bc/Abalone_at_California_Academy_of_Sciences.JPG/1200px-Abalone_at_California_Academy_of_Sciences.JPG\" width=\"500\"/></center>\n",
    "\n",
    "You are hired by a humble abalone farmer. She is interested in conducting analysis to help her understand her beloved molluscs."
   ]
  },
  {
   "cell_type": "markdown",
   "metadata": {},
   "source": [
    "----\n",
    "Data\n",
    "----\n",
    "\n",
    "Lucky for both of you there is historical data:\n",
    "\n",
    "http://archive.ics.uci.edu/ml/datasets/Abalone?pagewanted=all"
   ]
  },
  {
   "cell_type": "code",
   "execution_count": 159,
   "metadata": {
    "collapsed": true
   },
   "outputs": [],
   "source": [
    "reset -fs"
   ]
  },
  {
   "cell_type": "code",
   "execution_count": 160,
   "metadata": {
    "collapsed": true
   },
   "outputs": [],
   "source": [
    "import matplotlib.pyplot as plt\n",
    "import numpy as np\n",
    "import pandas as pd\n",
    "import seaborn as sns\n",
    "\n",
    "%matplotlib inline"
   ]
  },
  {
   "cell_type": "code",
   "execution_count": 161,
   "metadata": {},
   "outputs": [
    {
     "data": {
      "text/html": [
       "<div>\n",
       "<style>\n",
       "    .dataframe thead tr:only-child th {\n",
       "        text-align: right;\n",
       "    }\n",
       "\n",
       "    .dataframe thead th {\n",
       "        text-align: left;\n",
       "    }\n",
       "\n",
       "    .dataframe tbody tr th {\n",
       "        vertical-align: top;\n",
       "    }\n",
       "</style>\n",
       "<table border=\"1\" class=\"dataframe\">\n",
       "  <thead>\n",
       "    <tr style=\"text-align: right;\">\n",
       "      <th></th>\n",
       "      <th>sex</th>\n",
       "      <th>length</th>\n",
       "      <th>diameter</th>\n",
       "      <th>height</th>\n",
       "      <th>weight_whole</th>\n",
       "      <th>weight_shucked</th>\n",
       "      <th>viscera</th>\n",
       "      <th>shell</th>\n",
       "      <th>n_rings</th>\n",
       "    </tr>\n",
       "  </thead>\n",
       "  <tbody>\n",
       "    <tr>\n",
       "      <th>0</th>\n",
       "      <td>M</td>\n",
       "      <td>0.455</td>\n",
       "      <td>0.365</td>\n",
       "      <td>0.095</td>\n",
       "      <td>0.514</td>\n",
       "      <td>0.2245</td>\n",
       "      <td>0.101</td>\n",
       "      <td>0.15</td>\n",
       "      <td>15</td>\n",
       "    </tr>\n",
       "  </tbody>\n",
       "</table>\n",
       "</div>"
      ],
      "text/plain": [
       "  sex  length  diameter  height  weight_whole  weight_shucked  viscera  shell  \\\n",
       "0   M   0.455     0.365   0.095         0.514          0.2245    0.101   0.15   \n",
       "\n",
       "   n_rings  \n",
       "0       15  "
      ]
     },
     "execution_count": 161,
     "metadata": {},
     "output_type": "execute_result"
    }
   ],
   "source": [
    "# Load data \n",
    "abalone = pd.read_csv('../data/abalone.csv')\n",
    "abalone.head(n=1)"
   ]
  },
  {
   "cell_type": "markdown",
   "metadata": {},
   "source": [
    "__Part 1__:\n",
    "\n",
    "Explore the linear relationship between length and diameter. Length is far easier to measure but diameter is more related to the amount of meat for sale.\n",
    "\n",
    "__TODO__: Plot the relationship:\n",
    "\n",
    "<br>\n",
    "<details><summary>\n",
    "Click here for a hint…\n",
    "</summary>\n",
    "Create a new DataFrame with generic names 'x' and 'y' for MCMC plotting\n",
    "</details>"
   ]
  },
  {
   "cell_type": "code",
   "execution_count": null,
   "metadata": {
    "collapsed": true
   },
   "outputs": [],
   "source": []
  },
  {
   "cell_type": "markdown",
   "metadata": {},
   "source": [
    "__TODO__: Use MCMC to find Bayesian regression estimates\n",
    "\n",
    "<br>\n",
    "<details><summary>\n",
    "Click here for a hint…\n",
    "</summary>\n",
    "https://pymc-devs.github.io/pymc3/notebooks/GLM-robust.html\n",
    "</details>"
   ]
  },
  {
   "cell_type": "code",
   "execution_count": 163,
   "metadata": {
    "collapsed": true
   },
   "outputs": [],
   "source": [
    "import pymc3 as pm"
   ]
  },
  {
   "cell_type": "code",
   "execution_count": 164,
   "metadata": {},
   "outputs": [
    {
     "ename": "SyntaxError",
     "evalue": "invalid syntax (<ipython-input-164-d681d79c2bc7>, line 1)",
     "output_type": "error",
     "traceback": [
      "\u001b[0;36m  File \u001b[0;32m\"<ipython-input-164-d681d79c2bc7>\"\u001b[0;36m, line \u001b[0;32m1\u001b[0m\n\u001b[0;31m    basic_model = # TODO: Create instance of model class\u001b[0m\n\u001b[0m                                                        ^\u001b[0m\n\u001b[0;31mSyntaxError\u001b[0m\u001b[0;31m:\u001b[0m invalid syntax\n"
     ]
    }
   ],
   "source": [
    "basic_model = # TODO: Create instance of model class\n",
    "with basic_model:\n",
    "\n",
    "    pm.glm.glm(\"None\", # TODO: Define glm using the R / Patsy model syntax\n",
    "               df, \n",
    "               family=pm.glm.families.Normal()) # Normal distribution for the likelihood\n",
    "\n",
    "    # Use Maximum A Posteriori (MAP) optimisation as initial value for MCMC\n",
    "    start = pm.find_MAP()\n",
    "\n",
    "    # Use the No-U-Turn Sampler\n",
    "    step = pm.NUTS()\n",
    "\n",
    "    # Calculate the trace\n",
    "    iterations = 5000\n",
    "    trace = pm.sample(iterations, \n",
    "                    step, \n",
    "                    start,  \n",
    "                    progressbar=True)"
   ]
  },
  {
   "cell_type": "markdown",
   "metadata": {},
   "source": [
    "-----"
   ]
  },
  {
   "cell_type": "markdown",
   "metadata": {},
   "source": [
    "__TODO__: Plot the bayesian regression:\n",
    "\n",
    "<br>\n",
    "<details><summary>\n",
    "Click here for a hint…\n",
    "</summary>\n",
    "pm.glm.plot_posterior_predictive\n",
    "</details>"
   ]
  },
  {
   "cell_type": "code",
   "execution_count": null,
   "metadata": {
    "collapsed": true
   },
   "outputs": [],
   "source": []
  },
  {
   "cell_type": "markdown",
   "metadata": {},
   "source": [
    "__TODO__: What can you could about the relationship? Does it makes sense to conduct a Bayesian Regression?\n"
   ]
  },
  {
   "cell_type": "code",
   "execution_count": null,
   "metadata": {
    "collapsed": true
   },
   "outputs": [],
   "source": []
  },
  {
   "cell_type": "markdown",
   "metadata": {},
   "source": [
    "----\n",
    "Part 2: Repeat with two other variables \n",
    "-----\n",
    "\n",
    "1. weight_shucked \n",
    "2. shell (weight)\n",
    "\n",
    "She cares about weight_sucked whereas shell (weight) is a by-product."
   ]
  },
  {
   "cell_type": "code",
   "execution_count": null,
   "metadata": {
    "collapsed": true
   },
   "outputs": [],
   "source": []
  },
  {
   "cell_type": "markdown",
   "metadata": {},
   "source": [
    "__TODO__: What can you could about the relationship? Does it makes sense to conduct a Bayesian Regression?"
   ]
  },
  {
   "cell_type": "code",
   "execution_count": null,
   "metadata": {
    "collapsed": true
   },
   "outputs": [],
   "source": []
  },
  {
   "cell_type": "markdown",
   "metadata": {},
   "source": [
    "<br>\n",
    "<br> \n",
    "<br>\n",
    "\n",
    "----"
   ]
  }
 ],
 "metadata": {
  "anaconda-cloud": {},
  "kernelspec": {
   "display_name": "Python 3",
   "language": "python",
   "name": "python3"
  },
  "language_info": {
   "codemirror_mode": {
    "name": "ipython",
    "version": 3
   },
   "file_extension": ".py",
   "mimetype": "text/x-python",
   "name": "python",
   "nbconvert_exporter": "python",
   "pygments_lexer": "ipython3",
   "version": "3.6.1"
  }
 },
 "nbformat": 4,
 "nbformat_minor": 1
}
