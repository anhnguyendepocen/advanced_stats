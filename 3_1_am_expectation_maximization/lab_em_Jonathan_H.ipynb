{
 "cells": [
  {
   "cell_type": "markdown",
   "metadata": {
    "slideshow": {
     "slide_type": "slide"
    }
   },
   "source": [
    "Expectation–Maximization (EM) Algorithm Lab\n",
    "-----\n"
   ]
  },
  {
   "cell_type": "markdown",
   "metadata": {
    "slideshow": {
     "slide_type": "slide"
    }
   },
   "source": [
    "By The End Of This Session You Should Be Able To:\n",
    "----\n",
    "- Apply EM to find the mixture of two Guassian Distrubtions"
   ]
  },
  {
   "cell_type": "code",
   "execution_count": 1,
   "metadata": {
    "collapsed": true,
    "slideshow": {
     "slide_type": "skip"
    }
   },
   "outputs": [],
   "source": [
    "reset -fs"
   ]
  },
  {
   "cell_type": "code",
   "execution_count": 2,
   "metadata": {
    "collapsed": true,
    "slideshow": {
     "slide_type": "slide"
    }
   },
   "outputs": [],
   "source": [
    "from random import uniform\n",
    "from math import sqrt, log, exp, pi\n",
    "\n",
    "import matplotlib.pyplot as plt\n",
    "import numpy as np\n",
    "from numpy import mean, std\n",
    "import pandas as pd\n",
    "from scipy import stats\n",
    "import seaborn as sns\n",
    "\n",
    "%matplotlib inline"
   ]
  },
  {
   "cell_type": "code",
   "execution_count": 5,
   "metadata": {
    "collapsed": false,
    "slideshow": {
     "slide_type": "slide"
    }
   },
   "outputs": [
    {
     "data": {
      "text/html": [
       "<div>\n",
       "<table border=\"1\" class=\"dataframe\">\n",
       "  <thead>\n",
       "    <tr style=\"text-align: right;\">\n",
       "      <th></th>\n",
       "      <th>x</th>\n",
       "    </tr>\n",
       "  </thead>\n",
       "  <tbody>\n",
       "    <tr>\n",
       "      <th>0</th>\n",
       "      <td>0.252851</td>\n",
       "    </tr>\n",
       "    <tr>\n",
       "      <th>1</th>\n",
       "      <td>-1.034562</td>\n",
       "    </tr>\n",
       "    <tr>\n",
       "      <th>2</th>\n",
       "      <td>3.319558</td>\n",
       "    </tr>\n",
       "    <tr>\n",
       "      <th>3</th>\n",
       "      <td>4.552363</td>\n",
       "    </tr>\n",
       "    <tr>\n",
       "      <th>4</th>\n",
       "      <td>-0.775995</td>\n",
       "    </tr>\n",
       "  </tbody>\n",
       "</table>\n",
       "</div>"
      ],
      "text/plain": [
       "          x\n",
       "0  0.252851\n",
       "1 -1.034562\n",
       "2  3.319558\n",
       "3  4.552363\n",
       "4 -0.775995"
      ]
     },
     "execution_count": 5,
     "metadata": {},
     "output_type": "execute_result"
    }
   ],
   "source": [
    "df = pd.read_csv(\"../data/em_example.csv\")\n",
    "df.head(n=5)"
   ]
  },
  {
   "cell_type": "markdown",
   "metadata": {
    "slideshow": {
     "slide_type": "slide"
    }
   },
   "source": [
    "__TODO__: Plot distribution"
   ]
  },
  {
   "cell_type": "code",
   "execution_count": 14,
   "metadata": {
    "collapsed": false,
    "slideshow": {
     "slide_type": "slide"
    }
   },
   "outputs": [
    {
     "data": {
      "image/png": "[encoded data removed]",
      "text/plain": [
       "<matplotlib.figure.Figure at 0x11d017080>"
      ]
     },
     "metadata": {},
     "output_type": "display_data"
    }
   ],
   "source": [
    "plt.hist(df.iloc[:,0],bins=15);"
   ]
  },
  {
   "cell_type": "markdown",
   "metadata": {
    "slideshow": {
     "slide_type": "fragment"
    }
   },
   "source": [
    "__TODO__: Is the normal distribution a useful model for the data?"
   ]
  },
  {
   "cell_type": "code",
   "execution_count": null,
   "metadata": {
    "collapsed": true,
    "slideshow": {
     "slide_type": "slide"
    }
   },
   "outputs": [],
   "source": [
    "# No - it is a bimodal distribution"
   ]
  },
  {
   "cell_type": "markdown",
   "metadata": {
    "slideshow": {
     "slide_type": "fragment"
    }
   },
   "source": [
    "__TODO__: Plot a Kernel Density Estimation (KDE) on the data:"
   ]
  },
  {
   "cell_type": "code",
   "execution_count": 9,
   "metadata": {
    "collapsed": false,
    "slideshow": {
     "slide_type": "slide"
    }
   },
   "outputs": [
    {
     "data": {
      "text/plain": [
       "<matplotlib.axes._subplots.AxesSubplot at 0x11c78fda0>"
      ]
     },
     "execution_count": 9,
     "metadata": {},
     "output_type": "execute_result"
    },
    {
     "data": {
      "image/png": "[encoded data removed]",
      "text/plain": [
       "<matplotlib.figure.Figure at 0x11c9fb588>"
      ]
     },
     "metadata": {},
     "output_type": "display_data"
    }
   ],
   "source": [
    "sns.kdeplot(df.iloc[:,0])"
   ]
  },
  {
   "cell_type": "markdown",
   "metadata": {
    "slideshow": {
     "slide_type": "fragment"
    }
   },
   "source": [
    "__TODO__:  What model should we fit?"
   ]
  },
  {
   "cell_type": "code",
   "execution_count": 10,
   "metadata": {
    "collapsed": true,
    "slideshow": {
     "slide_type": "fragment"
    }
   },
   "outputs": [],
   "source": [
    "# Two normal distributions - bivariate normal "
   ]
  },
  {
   "cell_type": "markdown",
   "metadata": {},
   "source": [
    "__TODO__:  Define the model:\n",
    "\n",
    "<br>\n",
    "<details><summary>\n",
    "Click here for a small hint…\n",
    "</summary>\n",
    "The model is should be the simplest that is able generate that figure\n",
    "</details>\n",
    "<br>\n",
    "<details><summary>\n",
    "Click here for a big hint…\n",
    "</summary>\n",
    "The model is two Normal distributions\n",
    "</details>"
   ]
  },
  {
   "cell_type": "markdown",
   "metadata": {
    "collapsed": true
   },
   "source": [
    "N1 ~ N($\\mu_1,\\sigma_1$)\n",
    "\n",
    "N2 ~ N($\\mu_2,\\sigma_2$)"
   ]
  },
  {
   "cell_type": "code",
   "execution_count": null,
   "metadata": {
    "collapsed": true
   },
   "outputs": [],
   "source": []
  },
  {
   "cell_type": "markdown",
   "metadata": {},
   "source": [
    "__TODO__:  List the model parameters:\n",
    "\n",
    "<br>\n",
    "<details><summary>\n",
    "Click here for a small hint…\n",
    "</summary>\n",
    "There are 5 paramaters\n",
    "</details>\n",
    "<br>\n",
    "<details><summary>\n",
    "Click here for a big hint…\n",
    "</summary>\n",
    "There are 5 paramaters: 4 of the them are Normal distributions, the last one is the probability of choosing one of them\n",
    "</details>\n"
   ]
  },
  {
   "cell_type": "markdown",
   "metadata": {
    "collapsed": true
   },
   "source": [
    "Two means ~ $\\mu_1,\\mu_2$\n",
    "\n",
    "Two standard deviations ~ $\\sigma_1,\\sigma_2$\n",
    "\n",
    "Latent variable(which distributions each data point belong to) a probability distribution ~ $Z$"
   ]
  },
  {
   "cell_type": "markdown",
   "metadata": {},
   "source": [
    "__TODO__:  Define the probability density function (PDF):"
   ]
  },
  {
   "cell_type": "markdown",
   "metadata": {
    "collapsed": true
   },
   "source": [
    "F(X|$Z$) = $(1-Z)*(N1|\\sigma_1,\\mu_1)+(Z)*(N2|\\sigma_2,\\mu_2)$\n",
    "\n"
   ]
  },
  {
   "cell_type": "code",
   "execution_count": null,
   "metadata": {
    "collapsed": true
   },
   "outputs": [],
   "source": []
  },
  {
   "cell_type": "code",
   "execution_count": null,
   "metadata": {
    "collapsed": true
   },
   "outputs": [],
   "source": []
  },
  {
   "cell_type": "markdown",
   "metadata": {},
   "source": [
    "$X$ is the observed data, $Z$ is the unobserved class membership.   \n",
    "\n",
    "Let $Z = 1$ if the data comes from the first Normal, and $0$ otherwise, then $E(Z) = w$. "
   ]
  },
  {
   "cell_type": "markdown",
   "metadata": {
    "slideshow": {
     "slide_type": "slide"
    }
   },
   "source": [
    "__TODO__:  Write the E  step. Either formally or informally."
   ]
  },
  {
   "cell_type": "markdown",
   "metadata": {
    "collapsed": true
   },
   "source": [
    "Q = E[F($\\sigma^t_{1,2},\\mu^t_{1,2}$|$Z,\\sigma^{t-1}_{1,2},\\mu^{t-1}_{1,2}$)]= $\\sum_{Xi}[(w)*(N1|\\sigma^{t-1}_1,\\mu^{t-1}_1)+(1-w)*(N2|\\sigma^{t-1}_2,\\mu^{t-1}_2]$"
   ]
  },
  {
   "cell_type": "code",
   "execution_count": null,
   "metadata": {
    "collapsed": true
   },
   "outputs": [],
   "source": []
  },
  {
   "cell_type": "code",
   "execution_count": null,
   "metadata": {
    "collapsed": true
   },
   "outputs": [],
   "source": []
  },
  {
   "cell_type": "markdown",
   "metadata": {},
   "source": [
    "__TODO__:  Write the M step. Either formally or informally."
   ]
  },
  {
   "cell_type": "markdown",
   "metadata": {
    "collapsed": true
   },
   "source": [
    "M = $argmax_{\\sigma_{1,2},\\mu_{1,2},Z}(Q) $"
   ]
  },
  {
   "cell_type": "code",
   "execution_count": null,
   "metadata": {
    "collapsed": true
   },
   "outputs": [],
   "source": []
  },
  {
   "cell_type": "code",
   "execution_count": 347,
   "metadata": {
    "collapsed": true
   },
   "outputs": [],
   "source": [
    "class Gaussian:\n",
    "    \"Model univariate Gaussian\"\n",
    "\n",
    "    def __init__(self, mu=None, sigma=None):\n",
    "        self.mu = mu\n",
    "        self.sigma = sigma\n",
    "\n",
    "    def __repr__(self):\n",
    "        return 'Gaussian({0:4.6}, {1:4.6})'.format(self.mu, self.sigma)\n",
    "\n",
    "    def pdf(self, datum):\n",
    "        \"Probability of a data point given the current parameters\"\n",
    "        u = (datum - self.mu) / abs(self.sigma)\n",
    "        try:\n",
    "            y = (1 / (sqrt(2 * pi) * abs(self.sigma))) * exp(-u * u / 2)\n",
    "            return y\n",
    "        except ZeroDivisionError:\n",
    "            return 0\n",
    "        \n"
   ]
  },
  {
   "cell_type": "code",
   "execution_count": 348,
   "metadata": {
    "collapsed": true
   },
   "outputs": [],
   "source": [
    "from math import sqrt"
   ]
  },
  {
   "cell_type": "code",
   "execution_count": 433,
   "metadata": {
    "collapsed": false
   },
   "outputs": [],
   "source": [
    "# TODO:  Complete Gaussian Mixture class \n",
    "class GaussianMixture:\n",
    "    \"Model mixture of two univariate Gaussians and their EM estimation\"\n",
    "\n",
    "    def __init__(self, data, mu_min=.1, mu_max=2, sigma_min=.1, sigma_max=1, mix=.5):\n",
    "        self.data = data\n",
    "        self.one = Gaussian(np.random.uniform(mu_min,mu_max),np.random.uniform(sigma_min,sigma_max))\n",
    "        self.two = Gaussian(np.random.uniform(mu_min,mu_max),np.random.uniform(sigma_min,sigma_max))\n",
    "        self.mix = mix\n",
    "\n",
    "    def Estep(self):\n",
    "        \"Perform an E(stimation)-step, freshening up self.loglike in the process\"\n",
    "        weights = []\n",
    "        self.loglike= 0.\n",
    "        for idx,d in enumerate(self.data):\n",
    "            weights.append((self.mix * self.two.pdf(d)) / ((1-self.mix)*self.one.pdf(d)+self.mix*self.two.pdf(d)))\n",
    "            self.loglike += np.log(weights[idx]+(1-weights[idx]))\n",
    "        self.weights = weights\n",
    "   \n",
    "\n",
    "    def Mstep(self, weights=None):\n",
    "        \"Perform an M(aximization)-step\"\n",
    "        num_mu1 = 0\n",
    "        denom_mu1 = 0\n",
    "        mu1 = 0\n",
    "        num_mu2 =0\n",
    "        denom_mu2 = 0\n",
    "        mu2 = 0\n",
    "\n",
    "        num_sig1 = 0\n",
    "        denom_sig1 =0\n",
    "        sig1 = 0\n",
    "        \n",
    "        num_sig2 = 0\n",
    "        denom_sig2 = 0\n",
    "        sig2 = 0\n",
    "        \n",
    "        for r,d in zip(self.weights,self.data): # update means\n",
    "            num_mu1+=(1-r)*d\n",
    "            denom_mu1 +=(1-r)\n",
    "            num_mu2+=r*d\n",
    "            denom_mu2 += r\n",
    "            \n",
    "        mu1 = num_mu1 / denom_mu1\n",
    "        mu2 = num_mu2 / denom_mu2\n",
    "        \n",
    "        \n",
    "        for r,d in zip(self.weights,self.data): # update std\n",
    "            num_sig1 += ((1-r)*(d-mu1))**2\n",
    "            num_sig2 +=(r*(d-mu2))**2\n",
    "        sig1 = sqrt(num_sig1 / denom_mu1)\n",
    "        sig2 = sqrt(num_sig2 / denom_mu2)\n",
    "        # update distributions\n",
    "        self.one.mu = mu1\n",
    "        self.one.sigma = sig1\n",
    "        self.two.mu = mu2\n",
    "        self.two.sigma = sig2\n",
    "\n",
    "        self.mix = denom_mu2 / len(self.data)\n",
    "\n",
    "\n",
    "        \n",
    "\n",
    "    def iterate(self, N=1, restarts = 100):\n",
    "        \"Perform N iterations, then compute log-likelihood\"\n",
    "\n",
    "        one = []\n",
    "        two = []\n",
    "        mixture = []\n",
    "\n",
    "        for r in range(restarts):\n",
    "            for i in range(N):\n",
    "                self.Estep()\n",
    "                self.Mstep()\n",
    "            one.append(self.one)\n",
    "            two.append(self.two)\n",
    "            mixture.append(self.mix)\n",
    "        return 'mu1',np.sum([i.mu for i in one])/restarts, 'mu2',np.sum([i.mu for i in two])/restarts,\\\n",
    "            'sig1',np.sum([i.sigma for i in one])/restarts, 'sig2',np.sum([i.sigma for i in two])/restarts,'mixture', np.mean(mixture)\n",
    "           \n",
    "\n",
    "\n",
    "\n",
    "\n",
    "\n",
    "    def __repr__(self):\n",
    "        return 'GaussianMixture({0}, {1}, mix={2.03})'.format(self.one, \n",
    "                                                        self.two, self.mix)\n",
    "\n",
    "    def __str__(self):\n",
    "        return 'Mixture: {0}, {1}, mix={2:.03})'.format(self.one, \n",
    "                                                        self.two, self.mix)"
   ]
  },
  {
   "cell_type": "code",
   "execution_count": 434,
   "metadata": {
    "collapsed": false
   },
   "outputs": [],
   "source": [
    "g_mix = GaussianMixture(df.x)"
   ]
  },
  {
   "cell_type": "code",
   "execution_count": 435,
   "metadata": {
    "collapsed": false
   },
   "outputs": [
    {
     "data": {
      "text/plain": [
       "('mu1',\n",
       " -0.16761999006936099,\n",
       " 'mu2',\n",
       " 3.0268105658433542,\n",
       " 'sig1',\n",
       " 0.82085813149246989,\n",
       " 'sig2',\n",
       " 0.81077573585302898,\n",
       " 'mixture',\n",
       " 0.63562812572684457)"
      ]
     },
     "execution_count": 435,
     "metadata": {},
     "output_type": "execute_result"
    }
   ],
   "source": [
    "g_mix.iterate(1_000)"
   ]
  },
  {
   "cell_type": "code",
   "execution_count": null,
   "metadata": {
    "collapsed": true
   },
   "outputs": [],
   "source": []
  },
  {
   "cell_type": "code",
   "execution_count": 131,
   "metadata": {
    "collapsed": true
   },
   "outputs": [],
   "source": [
    "# TODO: Find best single Gaussian model"
   ]
  },
  {
   "cell_type": "code",
   "execution_count": 436,
   "metadata": {
    "collapsed": false
   },
   "outputs": [
    {
     "name": "stdout",
     "output_type": "stream",
     "text": [
      "mu 1.86284991695 sigma 1.77021613224\n"
     ]
    },
    {
     "data": {
      "image/png": "[encoded data removed]",
      "text/plain": [
       "<matplotlib.figure.Figure at 0x11ca1de80>"
      ]
     },
     "metadata": {},
     "output_type": "display_data"
    }
   ],
   "source": [
    "norm_params = stats.norm.fit(df.x)\n",
    "sns.kdeplot(stats.norm(*norm_params).rvs(100))\n",
    "print('mu',norm_params[0],'sigma',norm_params[1])"
   ]
  },
  {
   "cell_type": "code",
   "execution_count": 132,
   "metadata": {
    "collapsed": true
   },
   "outputs": [],
   "source": [
    "# TODO: Find best Mixture Gaussian model"
   ]
  },
  {
   "cell_type": "code",
   "execution_count": null,
   "metadata": {
    "collapsed": false
   },
   "outputs": [],
   "source": []
  },
  {
   "cell_type": "code",
   "execution_count": 340,
   "metadata": {
    "collapsed": false
   },
   "outputs": [
    {
     "name": "stdout",
     "output_type": "stream",
     "text": [
      "Best Guassian Mixture:\n",
      "1st Guassian: μ = -0.17, σ = 0.82\n",
      "2nd Guassian: μ = 3.0, σ = 0.81\n",
      "Guassian mixture: 0.64\n"
     ]
    },
    {
     "data": {
      "text/plain": [
       "'Shoule be ~ like this:\\nBest Guassian Mixture:\\n1st Guassian: μ = 2.6, σ = 1.2\\n2nd Guassian: μ = -0.48, σ = 0.8\\nGuassian mixture: 0.75\\n'"
      ]
     },
     "execution_count": 340,
     "metadata": {},
     "output_type": "execute_result"
    }
   ],
   "source": [
    "print('Best Guassian Mixture:')\n",
    "print('1st Guassian: μ = {:.2}, σ = {:.2}'.format(g_mix.one.mu, g_mix.one.sigma))\n",
    "print('2nd Guassian: μ = {:.2}, σ = {:.2}'.format(g_mix.two.mu, g_mix.two.sigma))\n",
    "print(f'Guassian mixture: {g_mix.mix:.2}')\n",
    "\n",
    "\"\"\"Shoule be ~ like this:\n",
    "Best Guassian Mixture:\n",
    "1st Guassian: μ = 2.6, σ = 1.2\n",
    "2nd Guassian: μ = -0.48, σ = 0.8\n",
    "Guassian mixture: 0.75\n",
    "\"\"\""
   ]
  },
  {
   "cell_type": "markdown",
   "metadata": {},
   "source": [
    "----\n",
    "Challenge Activities\n",
    "------\n",
    "\n",
    "Plot the estimated pdfs, univariate and mixture:"
   ]
  },
  {
   "cell_type": "code",
   "execution_count": 441,
   "metadata": {
    "collapsed": false
   },
   "outputs": [
    {
     "data": {
      "image/png": "[encoded data removed]",
      "text/plain": [
       "<matplotlib.figure.Figure at 0x11d629e48>"
      ]
     },
     "metadata": {},
     "output_type": "display_data"
    }
   ],
   "source": [
    "sns.kdeplot(stats.norm(-0.16761999006936099,0.82085813149246989).rvs(500),label='N1')\n",
    "sns.kdeplot(stats.norm(3.0268105658433542,0.81077573585302898).rvs(500),label='N2')\n",
    "plt.hist(df.x, normed=True,label='true data');"
   ]
  },
  {
   "cell_type": "markdown",
   "metadata": {
    "slideshow": {
     "slide_type": "slide"
    }
   },
   "source": [
    "<br>\n",
    "<br>"
   ]
  }
 ],
 "metadata": {
  "anaconda-cloud": {},
  "kernelspec": {
   "display_name": "Python 3",
   "language": "python",
   "name": "python3"
  },
  "language_info": {
   "codemirror_mode": {
    "name": "ipython",
    "version": 3
   },
   "file_extension": ".py",
   "mimetype": "text/x-python",
   "name": "python",
   "nbconvert_exporter": "python",
   "pygments_lexer": "ipython3",
   "version": "3.6.1"
  }
 },
 "nbformat": 4,
 "nbformat_minor": 1
}
