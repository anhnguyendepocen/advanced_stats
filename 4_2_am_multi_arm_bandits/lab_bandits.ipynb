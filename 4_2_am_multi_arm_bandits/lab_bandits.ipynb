{
 "cells": [
  {
   "cell_type": "markdown",
   "metadata": {},
   "source": [
    "Multi-arm Bandits\n",
    "------\n",
    "\n",
    "![](http://i1.wp.com/banditalgs.com/wp-content/uploads/2016/09/cropped-bandit-algorithm-full.png?fit=512%2C512)"
   ]
  },
  {
   "cell_type": "code",
   "execution_count": 1,
   "metadata": {
    "collapsed": true
   },
   "outputs": [],
   "source": [
    "reset -fs"
   ]
  },
  {
   "cell_type": "code",
   "execution_count": 2,
   "metadata": {
    "collapsed": true
   },
   "outputs": [],
   "source": [
    "import math\n",
    "import random\n",
    "\n",
    "import numpy as np\n",
    "import scipy.stats as stats"
   ]
  },
  {
   "cell_type": "code",
   "execution_count": 3,
   "metadata": {
    "collapsed": true
   },
   "outputs": [],
   "source": [
    "class Bandits:\n",
    "\n",
    "    def __init__(self, p_array):\n",
    "        self.p_array = p_array            # Array of probabilities to initialize bandits\n",
    "        self.optimal = np.argmax(p_array) # Index of the optimal bandit\n",
    "\n",
    "    def pull(self, index):\n",
    "        \"Sample from a given bandit\"\n",
    "        return np.random.random() < self.p_array[index] # Boolean indicating whether the bandit returned a reward or not\n",
    "\n",
    "    def __len__(self):\n",
    "        return len(self.p_array)"
   ]
  },
  {
   "cell_type": "code",
   "execution_count": 4,
   "metadata": {
    "collapsed": true
   },
   "outputs": [],
   "source": [
    "class BanditStrategy:\n",
    "    \" Implements a online, learning strategy to solve the Multi-Armed Bandit problem.\"\n",
    "\n",
    "    def __init__(self, bandits, choice_function):\n",
    "        self.bandits = bandits                 # Instance of Bandits class\n",
    "        n_bandits = len(self.bandits)\n",
    "        self.wins = np.zeros(n_bandits)\n",
    "        self.trials = np.zeros(n_bandits)\n",
    "        self.N = 0                             # The cumulative number of samples\n",
    "        self.choices = []                      # The historical choices \n",
    "        self.score = []                        # The historical score \n",
    "        self.choice_function = choice_function # Has self argument to gives access to all the instance variables\n",
    "                                               # Returns and int between 0 and n-1\n",
    "\n",
    "    def sample_bandits(self, n=1):\n",
    "        \"Simulate n rounds of running the bandit machine.\"\n",
    "        score = np.zeros(n)\n",
    "        choices = np.zeros(n)\n",
    "\n",
    "        # Seed the random number generators so you get the same results every time.\n",
    "        np.random.seed(42)\n",
    "        random.seed(42)\n",
    "\n",
    "        for k in range(n):\n",
    "            # Sample from the bandits's priors, and select the largest sample\n",
    "            choice = self.choice_function(self)\n",
    "\n",
    "            # Sample the chosen bandit\n",
    "            result = self.bandits.pull(choice)\n",
    "\n",
    "            # Update priors and score\n",
    "            self.wins[choice] += result\n",
    "            self.trials[choice] += 1\n",
    "            score[k] = result\n",
    "            self.N += 1\n",
    "            choices[k] = choice\n",
    "\n",
    "        self.score = np.r_[self.score, score]\n",
    "        self.choices = np.r_[self.choices, choices]\n",
    "\n",
    "    def regret(self, probabilities):\n",
    "        \"\"\"Take an array of the true probabilities for each machine and \n",
    "        an array of the indices of the machine played at each round.\n",
    "        Return an array giving the total regret after each round.\"\"\"\n",
    "        p_opt = np.max(probabilities)\n",
    "        return np.cumsum(p_opt - probabilities[self.choices.astype(int)]) # Total Regret\n",
    "\n",
    "    def optimum_choices(self, probabilities):\n",
    "        \"\"\"Take an array of the true probabilities for each machine and \n",
    "        an array of the indices of the machine played at each round.\n",
    "        Return an array giving the total regret after each round.\n",
    "        \"\"\"\n",
    "        p_opt = np.argmax(probabilities)\n",
    "        return np.cumsum(np.select([self.choices==p_opt], [1]))\n",
    "\n",
    "    def max_mean(self):\n",
    "        \"Pick the bandit with the current best observed proportion of winning.\"\n",
    "        if len(self.trials.nonzero()[0]) < len(self.bandits): # Make sure to play each bandit at least once\n",
    "            return np.random.randint(0, len(self.bandits))\n",
    "        return np.argmax(self.wins / (self.trials + 1)) # Return the index of the winning bandit."
   ]
  },
  {
   "cell_type": "code",
   "execution_count": 5,
   "metadata": {
    "collapsed": true
   },
   "outputs": [],
   "source": [
    "def random_choice(self): # XXX: This is silly technical debt. This method depends on some j-random classs!\n",
    "    \"Pick a bandit uniformly at random.\"\n",
    "    return np.random.randint(0, len(self.wins)) # Return the index of the winning bandit."
   ]
  },
  {
   "cell_type": "code",
   "execution_count": 7,
   "metadata": {
    "collapsed": true
   },
   "outputs": [],
   "source": [
    "bandits = Bandits([0.05, 0.03, 0.06])\n",
    "bs = BanditStrategy(bandits, random_choice)\n",
    "bs.sample_bandits(10) # 1000 is a good value"
   ]
  },
  {
   "cell_type": "code",
   "execution_count": 8,
   "metadata": {
    "collapsed": true
   },
   "outputs": [],
   "source": [
    "def print_results(bs_instance):\n",
    "    print(\"Number of trials: \", bs_instance.trials)\n",
    "    print(\"Number of wins: \", bs_instance.wins)\n",
    "    print(\"Conversion rates: \", bs_instance.wins / bs_instance.trials)\n",
    "    print(f\"A total of {bs_instance.wins.sum()} wins of {bs_instance.trials.sum()} trials.\")"
   ]
  },
  {
   "cell_type": "code",
   "execution_count": 9,
   "metadata": {},
   "outputs": [
    {
     "name": "stdout",
     "output_type": "stream",
     "text": [
      "Number of trials:  [ 3.  3.  4.]\n",
      "Number of wins:  [ 0.  0.  1.]\n",
      "Conversion rates:  [ 0.    0.    0.25]\n",
      "A total of 1.0 wins of 10.0 trials.\n"
     ]
    }
   ],
   "source": [
    "print_results(bs)"
   ]
  },
  {
   "cell_type": "markdown",
   "metadata": {},
   "source": [
    "-----\n",
    "Implement the four multi-arm bandit strategies: \n",
    "        \n",
    "1. epsilon-greedy\n",
    "2. softmax\n",
    "3. ucb1 \n",
    "4. bayesian bandits"
   ]
  },
  {
   "cell_type": "code",
   "execution_count": 22,
   "metadata": {
    "collapsed": true
   },
   "outputs": [],
   "source": [
    "def epsilon_greedy(self, epsilon=0.1):\n",
    "    '''\n",
    "    Pick a bandit uniformly at random epsilon percent of the time.\n",
    "    Otherwise pick the bandit with the best observed proportion of winning.\n",
    "    Return the index of the winning bandit.\n",
    "    '''\n",
    "    pass"
   ]
  },
  {
   "cell_type": "code",
   "execution_count": 23,
   "metadata": {
    "collapsed": true
   },
   "outputs": [],
   "source": [
    "def softmax(self, tau=0.01):\n",
    "    '''\n",
    "    Pick an bandit according to the Boltzman Distribution.\n",
    "    Return the index of the winning bandit.\n",
    "    '''\n",
    "    pass"
   ]
  },
  {
   "cell_type": "code",
   "execution_count": 24,
   "metadata": {
    "collapsed": true
   },
   "outputs": [],
   "source": [
    "def ucb1(self):\n",
    "    '''\n",
    "    Pick the bandit according to the UCB1 strategy.\n",
    "    Return the index of the winning bandit.\n",
    "    '''\n",
    "    pass"
   ]
  },
  {
   "cell_type": "code",
   "execution_count": 25,
   "metadata": {
    "collapsed": true
   },
   "outputs": [],
   "source": [
    "def bayesian_bandit(self):\n",
    "    '''\n",
    "    Randomly sample from a beta distribution for each bandit and pick the one\n",
    "    with the largest value.\n",
    "    Return the index of the winning bandit.\n",
    "    '''\n",
    "    pass"
   ]
  },
  {
   "cell_type": "markdown",
   "metadata": {},
   "source": [
    "See how many wins you have of the 1000 trials using each of the six strategies (two already implemented) with the starting bandits given above."
   ]
  },
  {
   "cell_type": "code",
   "execution_count": 26,
   "metadata": {},
   "outputs": [
    {
     "name": "stdout",
     "output_type": "stream",
     "text": [
      "Number of trials:  [ 373.  341.  296.]\n",
      "Number of wins:  [ 18.   5.  16.]\n",
      "Conversion rates:  [ 0.04825737  0.01466276  0.05405405]\n",
      "A total of 39.0 wins of 1010.0 trials.\n"
     ]
    }
   ],
   "source": [
    "bandits = Bandits([0.05, 0.03, 0.06])\n",
    "# bs = BanditStrategy(bandits, epsilon_greedy)\n",
    "# bs = BanditStrategy(bandits, softmax)\n",
    "# bs = BanditStrategy(bandits, ucb1)\n",
    "# bs = BanditStrategy(bandits, bayesian_bandit)\n",
    "bs.sample_bandits(1000)\n",
    "print_results(bs)"
   ]
  },
  {
   "cell_type": "markdown",
   "metadata": {},
   "source": [
    "What is your summary of the different strategies?"
   ]
  },
  {
   "cell_type": "code",
   "execution_count": null,
   "metadata": {
    "collapsed": true
   },
   "outputs": [],
   "source": []
  },
  {
   "cell_type": "markdown",
   "metadata": {},
   "source": [
    "Try running it again  and see how different each algorithm does with respect to\n"
   ]
  },
  {
   "cell_type": "code",
   "execution_count": 27,
   "metadata": {
    "collapsed": true
   },
   "outputs": [],
   "source": [
    "probs ={'atlantic_city': [0.1, 0.1, 0.1, 0.1, 0.9],\n",
    "        'las_vegas': [0.1, 0.1, 0.1, 0.1, 0.12],\n",
    "        'reno': [0.1, 0.2, 0.3, 0.4, 0.5]}\n",
    "\n",
    "bandits = Bandits(probs['atlantic_city'])"
   ]
  },
  {
   "cell_type": "code",
   "execution_count": null,
   "metadata": {
    "collapsed": true
   },
   "outputs": [],
   "source": []
  },
  {
   "cell_type": "markdown",
   "metadata": {},
   "source": [
    "What is your summary of the different strategies?"
   ]
  },
  {
   "cell_type": "code",
   "execution_count": null,
   "metadata": {
    "collapsed": true
   },
   "outputs": [],
   "source": []
  },
  {
   "cell_type": "code",
   "execution_count": 28,
   "metadata": {
    "collapsed": true
   },
   "outputs": [],
   "source": [
    "def regret(probabilities, choices):\n",
    "        '''\n",
    "        INPUT: array of floats (0 to 1), array of ints\n",
    "        OUTPUT: array of floats\n",
    "\n",
    "        Take an array of the true probabilities for each machine and an\n",
    "        array of the indices of the machine played at each round.\n",
    "        Return an array giving the total regret after each round.\n",
    "        '''\n",
    "        p_opt = np.max(probabilities)\n",
    "        return np.cumsum(p_opt - probabilities[choices])"
   ]
  },
  {
   "cell_type": "markdown",
   "metadata": {},
   "source": [
    "Plot the total regret over time of each algorithm. \n",
    "\n",
    "Use the Bandits with these hidden probabilities:"
   ]
  },
  {
   "cell_type": "code",
   "execution_count": 29,
   "metadata": {
    "collapsed": true
   },
   "outputs": [],
   "source": [
    "bandits = Bandits([0.05, 0.03, 0.06])"
   ]
  },
  {
   "cell_type": "code",
   "execution_count": null,
   "metadata": {
    "collapsed": true
   },
   "outputs": [],
   "source": []
  },
  {
   "cell_type": "markdown",
   "metadata": {},
   "source": [
    "Now plot the percentage of time the optimal bandit was chosen over time."
   ]
  },
  {
   "cell_type": "code",
   "execution_count": null,
   "metadata": {
    "collapsed": true
   },
   "outputs": [],
   "source": []
  },
  {
   "cell_type": "markdown",
   "metadata": {},
   "source": [
    "<br>\n",
    "<br> \n",
    "<br>\n",
    "\n",
    "----"
   ]
  }
 ],
 "metadata": {
  "kernelspec": {
   "display_name": "Python 3",
   "language": "python",
   "name": "python3"
  },
  "language_info": {
   "codemirror_mode": {
    "name": "ipython",
    "version": 3
   },
   "file_extension": ".py",
   "mimetype": "text/x-python",
   "name": "python",
   "nbconvert_exporter": "python",
   "pygments_lexer": "ipython3",
   "version": "3.6.1"
  }
 },
 "nbformat": 4,
 "nbformat_minor": 2
}
